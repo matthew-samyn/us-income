{
 "cells": [
  {
   "cell_type": "markdown",
   "source": [
    "Importing modules"
   ],
   "metadata": {
    "collapsed": false
   }
  },
  {
   "cell_type": "code",
   "execution_count": 1,
   "outputs": [],
   "source": [
    "import pandas as pd\n",
    "import numpy as np\n",
    "import matplotlib.pyplot as plt\n",
    "import seaborn as sns\n",
    "from functions import *\n",
    "from sklearn.model_selection import RandomizedSearchCV\n",
    "from sklearn.ensemble import RandomForestClassifier\n",
    "from sklearn.metrics import classification_report\n",
    "from sklearn.metrics import confusion_matrix\n",
    "from sklearn.metrics import plot_confusion_matrix\n",
    "from sklearn.model_selection import cross_val_score\n",
    "from sklearn.model_selection import train_test_split\n",
    "from sklearn.metrics import matthews_corrcoef"
   ],
   "metadata": {
    "collapsed": false,
    "pycharm": {
     "name": "#%%\n"
    }
   }
  },
  {
   "cell_type": "markdown",
   "source": [
    "Reading csv's"
   ],
   "metadata": {
    "collapsed": false
   }
  },
  {
   "cell_type": "code",
   "execution_count": 2,
   "outputs": [
    {
     "name": "stdout",
     "output_type": "stream",
     "text": [
      "(16281, 15)\n",
      "(32561, 15)\n"
     ]
    }
   ],
   "source": [
    "test = pd.read_csv(\"CSV/data_test.csv\")\n",
    "train = pd.read_csv(\"CSV/data_train.csv\")\n",
    "print(test.shape)\n",
    "print(train.shape)"
   ],
   "metadata": {
    "collapsed": false,
    "pycharm": {
     "name": "#%%\n"
    }
   }
  },
  {
   "cell_type": "markdown",
   "source": [
    "Merging csv's"
   ],
   "metadata": {
    "collapsed": false
   }
  },
  {
   "cell_type": "code",
   "execution_count": 3,
   "outputs": [
    {
     "name": "stdout",
     "output_type": "stream",
     "text": [
      "(48842, 15)\n",
      "Index(['age', 'workclass', 'fnlwgt', 'education', 'education-num',\n",
      "       'marital-status', 'occupation', 'relationship', 'race', 'sex',\n",
      "       'capital-gain', 'capital-loss', 'hours-per-week', 'native-country',\n",
      "       'income'],\n",
      "      dtype='object')\n"
     ]
    }
   ],
   "source": [
    "df = pd.concat([test, train])\n",
    "print(df.shape)\n",
    "print(df.columns)"
   ],
   "metadata": {
    "collapsed": false,
    "pycharm": {
     "name": "#%%\n"
    }
   }
  },
  {
   "cell_type": "markdown",
   "source": [
    "Performing train_test_split"
   ],
   "metadata": {
    "collapsed": false
   }
  },
  {
   "cell_type": "code",
   "execution_count": 4,
   "outputs": [],
   "source": [
    "y_train = train[\"income\"].values\n",
    "X_train_unnormalized = train.drop([\"income\"], axis=1).values\n",
    "\n",
    "y_test = test[\"income\"].values\n",
    "X_test_unnormalized = test.drop([\"income\"], axis=1).values"
   ],
   "metadata": {
    "collapsed": false,
    "pycharm": {
     "name": "#%%\n"
    }
   }
  },
  {
   "cell_type": "markdown",
   "source": [
    "# Checking baseline accuracy with RandomForestClassifier-model"
   ],
   "metadata": {
    "collapsed": false
   }
  },
  {
   "cell_type": "code",
   "execution_count": 5,
   "outputs": [
    {
     "name": "stdout",
     "output_type": "stream",
     "text": [
      "Score on training set: 0.9999692884125181\n",
      "Score on test set: 0.8529574350469873\n",
      "\n",
      "cross_validation_score:\n",
      "Accuracy: 85.80% (+/- 0.42)\n",
      "\n",
      "classification_report:\n",
      "              precision    recall  f1-score   support\n",
      "\n",
      "           0       0.88      0.93      0.91     12435\n",
      "           1       0.73      0.61      0.66      3846\n",
      "\n",
      "    accuracy                           0.85     16281\n",
      "   macro avg       0.81      0.77      0.78     16281\n",
      "weighted avg       0.85      0.85      0.85     16281\n",
      "\n",
      "\n",
      "matthews_corrcoef:\n",
      "0.5714334077189942\n"
     ]
    },
    {
     "data": {
      "text/plain": "<Figure size 432x288 with 2 Axes>",
      "image/png": "[encoded data removed]"
     },
     "metadata": {
      "needs_background": "light"
     },
     "output_type": "display_data"
    }
   ],
   "source": [
    "forest_baseline = RandomForestClassifier(random_state=42).fit(X_train_unnormalized, y_train)\n",
    "predicting_scoring_model(forest_baseline, X_train_unnormalized,\n",
    "                                         y_train, X_test_unnormalized,\n",
    "                                         y_test, \"baseline model\")"
   ],
   "metadata": {
    "collapsed": false,
    "pycharm": {
     "name": "#%%\n"
    }
   }
  },
  {
   "cell_type": "markdown",
   "source": [
    "# Modeling with normalized data.\n",
    "Scaling the data"
   ],
   "metadata": {
    "collapsed": false
   }
  },
  {
   "cell_type": "code",
   "execution_count": 6,
   "outputs": [],
   "source": [
    "X_train = normalizing_array(X_train_unnormalized)\n",
    "X_test = normalizing_array(X_test_unnormalized)"
   ],
   "metadata": {
    "collapsed": false,
    "pycharm": {
     "name": "#%%\n"
    }
   }
  },
  {
   "cell_type": "code",
   "execution_count": 7,
   "outputs": [
    {
     "name": "stdout",
     "output_type": "stream",
     "text": [
      "Score on training set: 0.8013267405792205\n",
      "Score on test set: 0.7963270069406057\n",
      "\n",
      "cross_validation_score:\n",
      "Accuracy: 79.66% (+/- 0.81)\n",
      "\n",
      "classification_report:\n",
      "              precision    recall  f1-score   support\n",
      "\n",
      "           0       0.79      0.99      0.88     12435\n",
      "           1       0.88      0.16      0.27      3846\n",
      "\n",
      "    accuracy                           0.80     16281\n",
      "   macro avg       0.84      0.58      0.58     16281\n",
      "weighted avg       0.81      0.80      0.74     16281\n",
      "\n",
      "\n",
      "matthews_corrcoef:\n",
      "0.3207212304413108\n"
     ]
    },
    {
     "data": {
      "text/plain": "<Figure size 432x288 with 2 Axes>",
      "image/png": "[encoded data removed]"
     },
     "metadata": {
      "needs_background": "light"
     },
     "output_type": "display_data"
    }
   ],
   "source": [
    "forest_normal = RandomForestClassifier(random_state=42).fit(X_train, y_train)\n",
    "predicting_scoring_model(forest_normal, X_train, y_train, X_test,\n",
    "                                         y_test, \"model with normalized data\")"
   ],
   "metadata": {
    "collapsed": false,
    "pycharm": {
     "name": "#%%\n"
    }
   }
  },
  {
   "cell_type": "markdown",
   "source": [
    "# Building on the baseline model with RandomizedSearchCV"
   ],
   "metadata": {
    "collapsed": false
   }
  },
  {
   "cell_type": "code",
   "execution_count": 8,
   "outputs": [
    {
     "data": {
      "text/plain": "RandomizedSearchCV(cv=5, estimator=RandomForestClassifier(random_state=42),\n                   param_distributions={'bootstrap': [True, False],\n                                        'criterion': ['gini', 'entropy'],\n                                        'max_depth': [None, 3, 6, 9],\n                                        'max_features': ['auto', 'sqrt',\n                                                         'log2'],\n                                        'min_samples_split': [2, 5, 9],\n                                        'n_estimators': [100, 200, 300, 400,\n                                                         500]},\n                   random_state=42)"
     },
     "execution_count": 8,
     "metadata": {},
     "output_type": "execute_result"
    }
   ],
   "source": [
    "param_grid = {\n",
    "    \"n_estimators\": [100,200,300,400,500],\n",
    "    \"max_features\": [\"auto\",\"sqrt\",\"log2\"],\n",
    "    \"max_depth\": [None, 3,6,9],\n",
    "    \"criterion\": [\"gini\", \"entropy\"],\n",
    "    \"bootstrap\": [True, False],\n",
    "    \"min_samples_split\": [2,5,9]\n",
    "}\n",
    "forest_cv = RandomizedSearchCV(RandomForestClassifier(random_state=42), param_grid, cv=5, random_state=42)\n",
    "forest_cv.fit(X_train_unnormalized, y_train)"
   ],
   "metadata": {
    "collapsed": false,
    "pycharm": {
     "name": "#%%\n"
    }
   }
  },
  {
   "cell_type": "code",
   "execution_count": 9,
   "outputs": [
    {
     "name": "stdout",
     "output_type": "stream",
     "text": [
      "Score on training set: 0.9999692884125181\n",
      "Score on test set: 0.8549229162827836\n",
      "\n",
      "cross_validation_score:\n",
      "Accuracy: 85.83% (+/- 0.43)\n",
      "\n",
      "classification_report:\n",
      "              precision    recall  f1-score   support\n",
      "\n",
      "           0       0.89      0.93      0.91     12435\n",
      "           1       0.73      0.61      0.67      3846\n",
      "\n",
      "    accuracy                           0.85     16281\n",
      "   macro avg       0.81      0.77      0.79     16281\n",
      "weighted avg       0.85      0.85      0.85     16281\n",
      "\n",
      "\n",
      "matthews_corrcoef:\n",
      "0.5779838992694128\n"
     ]
    },
    {
     "data": {
      "text/plain": "<Figure size 432x288 with 2 Axes>",
      "image/png": "[encoded data removed]"
     },
     "metadata": {
      "needs_background": "light"
     },
     "output_type": "display_data"
    }
   ],
   "source": [
    "forest_cv = forest_cv.best_estimator_\n",
    "predicting_scoring_model(forest_cv, X_train_unnormalized, y_train, X_test_unnormalized, y_test, \"model with best parameters\")"
   ],
   "metadata": {
    "collapsed": false,
    "pycharm": {
     "name": "#%%\n"
    }
   }
  },
  {
   "cell_type": "markdown",
   "source": [
    "# Trying with own train_test_split\n",
    "Splitting the full dataset in train(70%) and test(30%)"
   ],
   "metadata": {
    "collapsed": false
   }
  },
  {
   "cell_type": "code",
   "execution_count": 10,
   "outputs": [],
   "source": [
    "y = df[\"income\"].values\n",
    "X = df.drop([\"income\"], axis=1).values\n",
    "X_train_splitted, X_test_splitted, y_train_splitted, y_test_splitted = train_test_split(X,y, test_size=0.3, random_state=42, stratify=y)"
   ],
   "metadata": {
    "collapsed": false,
    "pycharm": {
     "name": "#%%\n"
    }
   }
  },
  {
   "cell_type": "code",
   "execution_count": 11,
   "outputs": [
    {
     "name": "stdout",
     "output_type": "stream",
     "text": [
      "Score on training set: 0.9999415016525783\n",
      "Score on test set: 0.858459018630997\n",
      "\n",
      "cross_validation_score:\n",
      "Accuracy: 85.68% (+/- 0.33)\n",
      "\n",
      "classification_report:\n",
      "              precision    recall  f1-score   support\n",
      "\n",
      "           0       0.89      0.93      0.91     11147\n",
      "           1       0.74      0.62      0.68      3506\n",
      "\n",
      "    accuracy                           0.86     14653\n",
      "   macro avg       0.82      0.78      0.79     14653\n",
      "weighted avg       0.85      0.86      0.85     14653\n",
      "\n",
      "\n",
      "matthews_corrcoef:\n",
      "0.5924540846074983\n"
     ]
    },
    {
     "data": {
      "text/plain": "<Figure size 432x288 with 2 Axes>",
      "image/png": "[encoded data removed]"
     },
     "metadata": {
      "needs_background": "light"
     },
     "output_type": "display_data"
    }
   ],
   "source": [
    "forest_full = RandomForestClassifier(random_state=42)\n",
    "forest_full.fit(X_train_splitted, y_train_splitted)\n",
    "predicting_scoring_model(forest_full, X_train_splitted, y_train_splitted, X_test_splitted,\n",
    "                                         y_test_splitted, \"model with full dataset\")"
   ],
   "metadata": {
    "collapsed": false,
    "pycharm": {
     "name": "#%%\n"
    }
   }
  },
  {
   "cell_type": "markdown",
   "source": [
    "# Searching for best parameters using RandomizedSearchCV, on own train_test_split"
   ],
   "metadata": {
    "collapsed": false,
    "pycharm": {
     "name": "#%% md\n"
    }
   }
  },
  {
   "cell_type": "code",
   "execution_count": 12,
   "outputs": [
    {
     "data": {
      "text/plain": "RandomizedSearchCV(cv=5, estimator=RandomForestClassifier(random_state=42),\n                   param_distributions={'bootstrap': [True, False],\n                                        'criterion': ['gini', 'entropy'],\n                                        'max_depth': [None, 3, 6, 9],\n                                        'max_features': ['auto', 'sqrt',\n                                                         'log2'],\n                                        'min_samples_split': [2, 5, 9],\n                                        'n_estimators': [100, 200, 300, 400,\n                                                         500]},\n                   random_state=42)"
     },
     "execution_count": 12,
     "metadata": {},
     "output_type": "execute_result"
    }
   ],
   "source": [
    "forest_full_best = RandomizedSearchCV(forest_full, param_grid, cv=5, random_state=42)\n",
    "forest_full_best.fit(X_train_splitted, y_train_splitted)"
   ],
   "metadata": {
    "collapsed": false,
    "pycharm": {
     "name": "#%%\n"
    }
   }
  },
  {
   "cell_type": "code",
   "execution_count": 13,
   "outputs": [
    {
     "name": "stdout",
     "output_type": "stream",
     "text": [
      "Score on training set: 0.9999415016525783\n",
      "Score on test set: 0.8587320002729817\n",
      "\n",
      "cross_validation_score:\n",
      "Accuracy: 85.78% (+/- 0.29)\n",
      "\n",
      "classification_report:\n",
      "              precision    recall  f1-score   support\n",
      "\n",
      "           0       0.89      0.93      0.91     11147\n",
      "           1       0.75      0.62      0.68      3506\n",
      "\n",
      "    accuracy                           0.86     14653\n",
      "   macro avg       0.82      0.78      0.79     14653\n",
      "weighted avg       0.85      0.86      0.85     14653\n",
      "\n",
      "\n",
      "matthews_corrcoef:\n",
      "0.5923965629599811\n"
     ]
    },
    {
     "data": {
      "text/plain": "<Figure size 432x288 with 2 Axes>",
      "image/png": "[encoded data removed]"
     },
     "metadata": {
      "needs_background": "light"
     },
     "output_type": "display_data"
    }
   ],
   "source": [
    "# No improvement\n",
    "forest_full_best = forest_full_best.best_estimator_\n",
    "predicting_scoring_model(forest_full_best, X_train_splitted, y_train_splitted, X_test_splitted,\n",
    "                                         y_test_splitted, \"model with full dataset, best parameters\")"
   ],
   "metadata": {
    "collapsed": false,
    "pycharm": {
     "name": "#%%\n"
    }
   }
  },
  {
   "cell_type": "markdown",
   "source": [
    "# Making the classes in the dataset evenly distributed."
   ],
   "metadata": {
    "collapsed": false,
    "pycharm": {
     "name": "#%% md\n"
    }
   }
  },
  {
   "cell_type": "code",
   "execution_count": 20,
   "outputs": [
    {
     "data": {
      "text/plain": "<Figure size 432x288 with 1 Axes>",
      "image/png": "[encoded data removed]"
     },
     "metadata": {
      "needs_background": "light"
     },
     "output_type": "display_data"
    }
   ],
   "source": [
    "plt.hist(train.income, bins=np.arange(-0.5,2))\n",
    "plt.xticks([0,1],labels=[\"<=50k\",\">50k\"])\n",
    "plt.title(\"Distribution of target\")\n",
    "plt.xlabel(\"Income\")\n",
    "plt.ylabel(\"Number of data points\")\n",
    "plt.savefig(\"Visuals/Distribution_classes.png\")"
   ],
   "metadata": {
    "collapsed": false,
    "pycharm": {
     "name": "#%%\n"
    }
   }
  },
  {
   "cell_type": "code",
   "execution_count": 23,
   "outputs": [
    {
     "name": "stdout",
     "output_type": "stream",
     "text": [
      "0    24720\n",
      "1     7841\n",
      "Name: income, dtype: int64\n",
      "0    24720\n",
      "1    23523\n",
      "Name: income, dtype: int64\n",
      "(48243, 15)\n"
     ]
    }
   ],
   "source": [
    "print(train.income.value_counts())\n",
    "train_only_1 = train[train[\"income\"] == 1]\n",
    "df_even_classes = pd.concat([train, train_only_1, train_only_1])\n",
    "print(df_even_classes.income.value_counts())\n",
    "print(df_even_classes.shape)"
   ],
   "metadata": {
    "collapsed": false,
    "pycharm": {
     "name": "#%%\n"
    }
   }
  },
  {
   "cell_type": "code",
   "execution_count": 24,
   "outputs": [
    {
     "data": {
      "text/plain": "<Figure size 432x288 with 1 Axes>",
      "image/png": "[encoded data removed]"
     },
     "metadata": {
      "needs_background": "light"
     },
     "output_type": "display_data"
    }
   ],
   "source": [
    "plt.hist(df_even_classes.income, bins=np.arange(-0.5,2))\n",
    "plt.xticks([0,1],labels=[\"<=50k\",\">50k\"])\n",
    "plt.title(\"Distribution of target\")\n",
    "plt.xlabel(\"Income\")\n",
    "plt.ylabel(\"Number of data points\")\n",
    "plt.savefig(\"Visuals/Even_distribution_classes.png\")"
   ],
   "metadata": {
    "collapsed": false,
    "pycharm": {
     "name": "#%%\n"
    }
   }
  },
  {
   "cell_type": "markdown",
   "source": [
    "Splitting into train and test"
   ],
   "metadata": {
    "collapsed": false,
    "pycharm": {
     "name": "#%% md\n"
    }
   }
  },
  {
   "cell_type": "code",
   "execution_count": 25,
   "outputs": [],
   "source": [
    "y_even = df_even_classes[\"income\"].values\n",
    "X_even = df_even_classes.drop([\"income\"], axis=1).values\n",
    "X_train_even, X_test_even, y_train_even, y_test_even = train_test_split(X_even,y_even, test_size=0.2, random_state=42, stratify=y_even)"
   ],
   "metadata": {
    "collapsed": false,
    "pycharm": {
     "name": "#%%\n"
    }
   }
  },
  {
   "cell_type": "markdown",
   "source": [
    "Checking model scores"
   ],
   "metadata": {
    "collapsed": false,
    "pycharm": {
     "name": "#%% md\n"
    }
   }
  },
  {
   "cell_type": "code",
   "execution_count": 26,
   "outputs": [
    {
     "data": {
      "text/plain": "RandomForestClassifier(random_state=42)"
     },
     "execution_count": 26,
     "metadata": {},
     "output_type": "execute_result"
    }
   ],
   "source": [
    "forest_even_classes = RandomForestClassifier(random_state=42)\n",
    "forest_even_classes.fit(X_train_even, y_train_even)"
   ],
   "metadata": {
    "collapsed": false,
    "pycharm": {
     "name": "#%%\n"
    }
   }
  },
  {
   "cell_type": "code",
   "execution_count": 27,
   "outputs": [
    {
     "name": "stdout",
     "output_type": "stream",
     "text": [
      "Score on training set: 0.9999740892366689\n",
      "Score on test set: 0.8434371353110989\n",
      "\n",
      "cross_validation_score:\n",
      "Accuracy: 91.83% (+/- 0.54)\n",
      "\n",
      "classification_report:\n",
      "              precision    recall  f1-score   support\n",
      "\n",
      "           0       0.91      0.88      0.90     12435\n",
      "           1       0.65      0.72      0.69      3846\n",
      "\n",
      "    accuracy                           0.84     16281\n",
      "   macro avg       0.78      0.80      0.79     16281\n",
      "weighted avg       0.85      0.84      0.85     16281\n",
      "\n",
      "\n",
      "matthews_corrcoef:\n",
      "0.582809604318849\n"
     ]
    },
    {
     "data": {
      "text/plain": "<Figure size 432x288 with 2 Axes>",
      "image/png": "[encoded data removed]"
     },
     "metadata": {
      "needs_background": "light"
     },
     "output_type": "display_data"
    }
   ],
   "source": [
    "predicting_scoring_model(forest_even_classes,X_train_even,y_train_even,X_test_unnormalized,\n",
    "                         y_test, \"evenly distributed classes\")"
   ],
   "metadata": {
    "collapsed": false,
    "pycharm": {
     "name": "#%%\n"
    }
   }
  },
  {
   "cell_type": "code",
   "execution_count": 19,
   "outputs": [],
   "source": [],
   "metadata": {
    "collapsed": false,
    "pycharm": {
     "name": "#%%\n"
    }
   }
  }
 ],
 "metadata": {
  "kernelspec": {
   "name": "build_central",
   "language": "python",
   "display_name": "3_9"
  },
  "language_info": {
   "codemirror_mode": {
    "name": "ipython",
    "version": 2
   },
   "file_extension": ".py",
   "mimetype": "text/x-python",
   "name": "python",
   "nbconvert_exporter": "python",
   "pygments_lexer": "ipython2",
   "version": "2.7.6"
  }
 },
 "nbformat": 4,
 "nbformat_minor": 0
}